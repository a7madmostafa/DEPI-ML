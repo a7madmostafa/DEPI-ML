{
 "cells": [
  {
   "cell_type": "markdown",
   "metadata": {},
   "source": [
    "# Import libraries"
   ]
  },
  {
   "cell_type": "code",
   "execution_count": 28,
   "metadata": {},
   "outputs": [],
   "source": [
    "import pandas as pd\n",
    "import seaborn as sns\n",
    "import warnings\n",
    "warnings.filterwarnings('ignore')\n",
    "from sklearn.model_selection import cross_val_score, GridSearchCV\n",
    "from sklearn.pipeline import Pipeline\n",
    "from sklearn.linear_model import LogisticRegression\n",
    "from sklearn.svm import SVC\n",
    "from sklearn.neighbors import KNeighborsClassifier\n",
    "from sklearn.tree import DecisionTreeClassifier\n",
    "from sklearn.ensemble import RandomForestClassifier"
   ]
  },
  {
   "cell_type": "markdown",
   "metadata": {},
   "source": [
    "# Reading Data"
   ]
  },
  {
   "cell_type": "code",
   "execution_count": 29,
   "metadata": {},
   "outputs": [
    {
     "data": {
      "text/html": [
       "<div>\n",
       "<style scoped>\n",
       "    .dataframe tbody tr th:only-of-type {\n",
       "        vertical-align: middle;\n",
       "    }\n",
       "\n",
       "    .dataframe tbody tr th {\n",
       "        vertical-align: top;\n",
       "    }\n",
       "\n",
       "    .dataframe thead th {\n",
       "        text-align: right;\n",
       "    }\n",
       "</style>\n",
       "<table border=\"1\" class=\"dataframe\">\n",
       "  <thead>\n",
       "    <tr style=\"text-align: right;\">\n",
       "      <th></th>\n",
       "      <th>num__Age</th>\n",
       "      <th>num__Monthly Income</th>\n",
       "      <th>num__Distance from Home</th>\n",
       "      <th>cat__Work-Life Balance_Fair</th>\n",
       "      <th>cat__Work-Life Balance_Good</th>\n",
       "      <th>cat__Work-Life Balance_Poor</th>\n",
       "      <th>cat__Overtime_Yes</th>\n",
       "      <th>cat__Company Reputation_Fair</th>\n",
       "      <th>cat__Company Reputation_Good</th>\n",
       "      <th>cat__Company Reputation_Poor</th>\n",
       "      <th>...</th>\n",
       "      <th>cat__Job Satisfaction_Medium</th>\n",
       "      <th>cat__Job Satisfaction_Very High</th>\n",
       "      <th>cat__Marital Status_Married</th>\n",
       "      <th>cat__Marital Status_Single</th>\n",
       "      <th>cat__Number of Dependents_low</th>\n",
       "      <th>cat__Performance Rating_Below Average</th>\n",
       "      <th>cat__Performance Rating_High</th>\n",
       "      <th>cat__Performance Rating_Low</th>\n",
       "      <th>cat__Gender_Male</th>\n",
       "      <th>Attrition</th>\n",
       "    </tr>\n",
       "  </thead>\n",
       "  <tbody>\n",
       "    <tr>\n",
       "      <th>0</th>\n",
       "      <td>-1.287802</td>\n",
       "      <td>2.294077</td>\n",
       "      <td>-0.808698</td>\n",
       "      <td>0.0</td>\n",
       "      <td>1.0</td>\n",
       "      <td>0.0</td>\n",
       "      <td>0.0</td>\n",
       "      <td>0.0</td>\n",
       "      <td>1.0</td>\n",
       "      <td>0.0</td>\n",
       "      <td>...</td>\n",
       "      <td>0.0</td>\n",
       "      <td>0.0</td>\n",
       "      <td>1.0</td>\n",
       "      <td>0.0</td>\n",
       "      <td>1.0</td>\n",
       "      <td>0.0</td>\n",
       "      <td>0.0</td>\n",
       "      <td>0.0</td>\n",
       "      <td>0.0</td>\n",
       "      <td>0</td>\n",
       "    </tr>\n",
       "    <tr>\n",
       "      <th>1</th>\n",
       "      <td>-0.539896</td>\n",
       "      <td>-0.442406</td>\n",
       "      <td>0.419519</td>\n",
       "      <td>0.0</td>\n",
       "      <td>1.0</td>\n",
       "      <td>0.0</td>\n",
       "      <td>1.0</td>\n",
       "      <td>0.0</td>\n",
       "      <td>1.0</td>\n",
       "      <td>0.0</td>\n",
       "      <td>...</td>\n",
       "      <td>0.0</td>\n",
       "      <td>1.0</td>\n",
       "      <td>1.0</td>\n",
       "      <td>0.0</td>\n",
       "      <td>1.0</td>\n",
       "      <td>1.0</td>\n",
       "      <td>0.0</td>\n",
       "      <td>0.0</td>\n",
       "      <td>1.0</td>\n",
       "      <td>0</td>\n",
       "    </tr>\n",
       "    <tr>\n",
       "      <th>2</th>\n",
       "      <td>0.374213</td>\n",
       "      <td>0.974902</td>\n",
       "      <td>-0.282320</td>\n",
       "      <td>1.0</td>\n",
       "      <td>0.0</td>\n",
       "      <td>0.0</td>\n",
       "      <td>0.0</td>\n",
       "      <td>0.0</td>\n",
       "      <td>1.0</td>\n",
       "      <td>0.0</td>\n",
       "      <td>...</td>\n",
       "      <td>0.0</td>\n",
       "      <td>1.0</td>\n",
       "      <td>1.0</td>\n",
       "      <td>0.0</td>\n",
       "      <td>1.0</td>\n",
       "      <td>0.0</td>\n",
       "      <td>0.0</td>\n",
       "      <td>0.0</td>\n",
       "      <td>1.0</td>\n",
       "      <td>0</td>\n",
       "    </tr>\n",
       "    <tr>\n",
       "      <th>3</th>\n",
       "      <td>-1.204702</td>\n",
       "      <td>0.964621</td>\n",
       "      <td>0.279151</td>\n",
       "      <td>0.0</td>\n",
       "      <td>0.0</td>\n",
       "      <td>1.0</td>\n",
       "      <td>0.0</td>\n",
       "      <td>0.0</td>\n",
       "      <td>0.0</td>\n",
       "      <td>1.0</td>\n",
       "      <td>...</td>\n",
       "      <td>0.0</td>\n",
       "      <td>1.0</td>\n",
       "      <td>0.0</td>\n",
       "      <td>1.0</td>\n",
       "      <td>1.0</td>\n",
       "      <td>0.0</td>\n",
       "      <td>1.0</td>\n",
       "      <td>0.0</td>\n",
       "      <td>1.0</td>\n",
       "      <td>1</td>\n",
       "    </tr>\n",
       "    <tr>\n",
       "      <th>4</th>\n",
       "      <td>-1.454004</td>\n",
       "      <td>-0.531192</td>\n",
       "      <td>-0.913974</td>\n",
       "      <td>1.0</td>\n",
       "      <td>0.0</td>\n",
       "      <td>0.0</td>\n",
       "      <td>0.0</td>\n",
       "      <td>1.0</td>\n",
       "      <td>0.0</td>\n",
       "      <td>0.0</td>\n",
       "      <td>...</td>\n",
       "      <td>0.0</td>\n",
       "      <td>1.0</td>\n",
       "      <td>0.0</td>\n",
       "      <td>1.0</td>\n",
       "      <td>1.0</td>\n",
       "      <td>0.0</td>\n",
       "      <td>0.0</td>\n",
       "      <td>0.0</td>\n",
       "      <td>1.0</td>\n",
       "      <td>1</td>\n",
       "    </tr>\n",
       "  </tbody>\n",
       "</table>\n",
       "<p>5 rows × 29 columns</p>\n",
       "</div>"
      ],
      "text/plain": [
       "   num__Age  num__Monthly Income  num__Distance from Home  \\\n",
       "0 -1.287802             2.294077                -0.808698   \n",
       "1 -0.539896            -0.442406                 0.419519   \n",
       "2  0.374213             0.974902                -0.282320   \n",
       "3 -1.204702             0.964621                 0.279151   \n",
       "4 -1.454004            -0.531192                -0.913974   \n",
       "\n",
       "   cat__Work-Life Balance_Fair  cat__Work-Life Balance_Good  \\\n",
       "0                          0.0                          1.0   \n",
       "1                          0.0                          1.0   \n",
       "2                          1.0                          0.0   \n",
       "3                          0.0                          0.0   \n",
       "4                          1.0                          0.0   \n",
       "\n",
       "   cat__Work-Life Balance_Poor  cat__Overtime_Yes  \\\n",
       "0                          0.0                0.0   \n",
       "1                          0.0                1.0   \n",
       "2                          0.0                0.0   \n",
       "3                          1.0                0.0   \n",
       "4                          0.0                0.0   \n",
       "\n",
       "   cat__Company Reputation_Fair  cat__Company Reputation_Good  \\\n",
       "0                           0.0                           1.0   \n",
       "1                           0.0                           1.0   \n",
       "2                           0.0                           1.0   \n",
       "3                           0.0                           0.0   \n",
       "4                           1.0                           0.0   \n",
       "\n",
       "   cat__Company Reputation_Poor  ...  cat__Job Satisfaction_Medium  \\\n",
       "0                           0.0  ...                           0.0   \n",
       "1                           0.0  ...                           0.0   \n",
       "2                           0.0  ...                           0.0   \n",
       "3                           1.0  ...                           0.0   \n",
       "4                           0.0  ...                           0.0   \n",
       "\n",
       "   cat__Job Satisfaction_Very High  cat__Marital Status_Married  \\\n",
       "0                              0.0                          1.0   \n",
       "1                              1.0                          1.0   \n",
       "2                              1.0                          1.0   \n",
       "3                              1.0                          0.0   \n",
       "4                              1.0                          0.0   \n",
       "\n",
       "   cat__Marital Status_Single  cat__Number of Dependents_low  \\\n",
       "0                         0.0                            1.0   \n",
       "1                         0.0                            1.0   \n",
       "2                         0.0                            1.0   \n",
       "3                         1.0                            1.0   \n",
       "4                         1.0                            1.0   \n",
       "\n",
       "   cat__Performance Rating_Below Average  cat__Performance Rating_High  \\\n",
       "0                                    0.0                           0.0   \n",
       "1                                    1.0                           0.0   \n",
       "2                                    0.0                           0.0   \n",
       "3                                    0.0                           1.0   \n",
       "4                                    0.0                           0.0   \n",
       "\n",
       "   cat__Performance Rating_Low  cat__Gender_Male  Attrition  \n",
       "0                          0.0               0.0          0  \n",
       "1                          0.0               1.0          0  \n",
       "2                          0.0               1.0          0  \n",
       "3                          0.0               1.0          1  \n",
       "4                          0.0               1.0          1  \n",
       "\n",
       "[5 rows x 29 columns]"
      ]
     },
     "execution_count": 29,
     "metadata": {},
     "output_type": "execute_result"
    }
   ],
   "source": [
    "df_train = pd.read_csv('train_data_prep.csv')\n",
    "df_test = pd.read_csv('test_data_prep.csv')\n",
    "df_train.head()"
   ]
  },
  {
   "cell_type": "code",
   "execution_count": 30,
   "metadata": {},
   "outputs": [],
   "source": [
    "X_train = df_train.drop('Attrition', axis=1)\n",
    "y_train = df_train['Attrition']\n",
    "X_test = df_test.drop('Attrition', axis=1)\n",
    "y_test = df_test['Attrition']"
   ]
  },
  {
   "cell_type": "markdown",
   "metadata": {},
   "source": [
    "# Modelling"
   ]
  },
  {
   "cell_type": "markdown",
   "metadata": {},
   "source": [
    "## Base Model"
   ]
  },
  {
   "cell_type": "code",
   "execution_count": 31,
   "metadata": {},
   "outputs": [
    {
     "name": "stdout",
     "output_type": "stream",
     "text": [
      "Logistic Regression Scores: [0.75970055 0.75917334 0.75421763 0.75358499 0.75832982]\n",
      "Mean Logistic Regression Score: 0.7570012652889078\n",
      "Standard Deviation: 0.0025763814822374184\n"
     ]
    }
   ],
   "source": [
    "log_reg = LogisticRegression()\n",
    "log_reg_scores = cross_val_score(log_reg, X_train, y_train, cv=5)\n",
    "\n",
    "print('Logistic Regression Scores:', log_reg_scores)\n",
    "print('Mean Logistic Regression Score:', log_reg_scores.mean())\n",
    "print('Standard Deviation:', log_reg_scores.std())"
   ]
  },
  {
   "cell_type": "markdown",
   "metadata": {},
   "source": [
    "## More Models"
   ]
  },
  {
   "cell_type": "code",
   "execution_count": 8,
   "metadata": {},
   "outputs": [],
   "source": [
    "knn = KNeighborsClassifier()\n",
    "svm = SVC()\n",
    "tree = DecisionTreeClassifier()\n",
    "rf = RandomForestClassifier()\n",
    "\n",
    "scores_dic = {}\n",
    "models=[]\n",
    "scores=[]\n",
    "deviations=[]\n",
    "for model in [knn, svm, tree, rf]:\n",
    "    model_scores = cross_val_score(model, X_train, y_train, cv=3, scoring='accuracy')\n",
    "    models.append(model.__class__.__name__)\n",
    "    scores.append(model_scores.mean())\n",
    "    deviations.append(model_scores.std())\n",
    "\n",
    "scores_dic['Model'] = models\n",
    "scores_dic['Mean_Score'] = scores\n",
    "scores_dic['Standard_Deviation'] = deviations"
   ]
  },
  {
   "cell_type": "code",
   "execution_count": 9,
   "metadata": {},
   "outputs": [
    {
     "data": {
      "text/plain": [
       "{'Model': ['KNeighborsClassifier',\n",
       "  'SVC',\n",
       "  'DecisionTreeClassifier',\n",
       "  'RandomForestClassifier'],\n",
       " 'Mean_Score': [0.6871573533315315,\n",
       "  0.7521510078218677,\n",
       "  0.6658161768666565,\n",
       "  0.7408477584580737],\n",
       " 'Standard_Deviation': [0.0013866328130485819,\n",
       "  0.002743618504654566,\n",
       "  0.0028452166107567375,\n",
       "  0.0006481027954308448]}"
      ]
     },
     "execution_count": 9,
     "metadata": {},
     "output_type": "execute_result"
    }
   ],
   "source": [
    "scores_dic"
   ]
  },
  {
   "cell_type": "code",
   "execution_count": 10,
   "metadata": {},
   "outputs": [
    {
     "data": {
      "text/html": [
       "<div>\n",
       "<style scoped>\n",
       "    .dataframe tbody tr th:only-of-type {\n",
       "        vertical-align: middle;\n",
       "    }\n",
       "\n",
       "    .dataframe tbody tr th {\n",
       "        vertical-align: top;\n",
       "    }\n",
       "\n",
       "    .dataframe thead th {\n",
       "        text-align: right;\n",
       "    }\n",
       "</style>\n",
       "<table border=\"1\" class=\"dataframe\">\n",
       "  <thead>\n",
       "    <tr style=\"text-align: right;\">\n",
       "      <th></th>\n",
       "      <th>Model</th>\n",
       "      <th>Mean_Score</th>\n",
       "      <th>Standard_Deviation</th>\n",
       "    </tr>\n",
       "  </thead>\n",
       "  <tbody>\n",
       "    <tr>\n",
       "      <th>0</th>\n",
       "      <td>KNeighborsClassifier</td>\n",
       "      <td>0.687157</td>\n",
       "      <td>0.001387</td>\n",
       "    </tr>\n",
       "    <tr>\n",
       "      <th>1</th>\n",
       "      <td>SVC</td>\n",
       "      <td>0.752151</td>\n",
       "      <td>0.002744</td>\n",
       "    </tr>\n",
       "    <tr>\n",
       "      <th>2</th>\n",
       "      <td>DecisionTreeClassifier</td>\n",
       "      <td>0.665816</td>\n",
       "      <td>0.002845</td>\n",
       "    </tr>\n",
       "    <tr>\n",
       "      <th>3</th>\n",
       "      <td>RandomForestClassifier</td>\n",
       "      <td>0.740848</td>\n",
       "      <td>0.000648</td>\n",
       "    </tr>\n",
       "  </tbody>\n",
       "</table>\n",
       "</div>"
      ],
      "text/plain": [
       "                    Model  Mean_Score  Standard_Deviation\n",
       "0    KNeighborsClassifier    0.687157            0.001387\n",
       "1                     SVC    0.752151            0.002744\n",
       "2  DecisionTreeClassifier    0.665816            0.002845\n",
       "3  RandomForestClassifier    0.740848            0.000648"
      ]
     },
     "execution_count": 10,
     "metadata": {},
     "output_type": "execute_result"
    }
   ],
   "source": [
    "scores_df = pd.DataFrame(scores_dic)\n",
    "scores_df"
   ]
  },
  {
   "cell_type": "markdown",
   "metadata": {},
   "source": [
    "# Feature Selection"
   ]
  },
  {
   "cell_type": "code",
   "execution_count": null,
   "metadata": {},
   "outputs": [],
   "source": [
    "rf = RandomForestClassifier()\n",
    "rf.fit(X_train, y_train)\n",
    "importances = rf.feature_importances_\n",
    "\n",
    "importances_df = pd.DataFrame({'Feature': X_train.columns, 'Importance': importances})\n",
    "importances_df.sort_values('Importance', ascending=False)\n",
    "\n",
    "sns.barplot(x='Importance', y='Feature', data=importances_df)"
   ]
  },
  {
   "cell_type": "code",
   "execution_count": null,
   "metadata": {},
   "outputs": [],
   "source": [
    "top_10 = importances_df.sort_values('Importance', ascending=False).head(10)\n",
    "top_10_features = top_10['Feature'].values"
   ]
  },
  {
   "cell_type": "code",
   "execution_count": null,
   "metadata": {},
   "outputs": [],
   "source": [
    "X_train = X_train[top_10_features]\n",
    "X_test = X_test[top_10_features]"
   ]
  },
  {
   "cell_type": "markdown",
   "metadata": {},
   "source": [
    "# Hyperparameter Tuning"
   ]
  },
  {
   "cell_type": "code",
   "execution_count": 19,
   "metadata": {},
   "outputs": [],
   "source": [
    "def grid_search(model, params, X_train, y_train):\n",
    "    grid = GridSearchCV(model, params, cv=3, scoring='accuracy', n_jobs=-1)\n",
    "    grid.fit(X_train, y_train)\n",
    "    return grid.best_estimator_, grid.best_params_, grid.best_score_"
   ]
  },
  {
   "cell_type": "code",
   "execution_count": 24,
   "metadata": {},
   "outputs": [],
   "source": [
    "grid_params = {svm: {'kernel': ['linear', 'rbf'],\n",
    "                        'C': [0.1, 1, 10]},\n",
    "\n",
    "               tree:{'max_depth': [ 4, 5],\n",
    "                       'min_samples_split': [ 4, 5]},\n",
    "\n",
    "               rf:{'n_estimators': [100, 200, 300],\n",
    "                    'max_depth': [ 4, 5]}\n",
    "                }\n"
   ]
  },
  {
   "cell_type": "code",
   "execution_count": 27,
   "metadata": {},
   "outputs": [
    {
     "ename": "AttributeError",
     "evalue": "'dict' object has no attribute 'append'",
     "output_type": "error",
     "traceback": [
      "\u001b[1;31m---------------------------------------------------------------------------\u001b[0m",
      "\u001b[1;31mAttributeError\u001b[0m                            Traceback (most recent call last)",
      "Cell \u001b[1;32mIn[27], line 10\u001b[0m\n\u001b[0;32m      8\u001b[0m     models\u001b[38;5;241m.\u001b[39mappend(model\u001b[38;5;241m.\u001b[39m\u001b[38;5;18m__class__\u001b[39m\u001b[38;5;241m.\u001b[39m\u001b[38;5;18m__name__\u001b[39m)\n\u001b[0;32m      9\u001b[0m     best_estimators\u001b[38;5;241m.\u001b[39mappend(best_estimator)\n\u001b[1;32m---> 10\u001b[0m     best_params\u001b[38;5;241m.\u001b[39mappend(best_params)\n\u001b[0;32m     11\u001b[0m     best_scores\u001b[38;5;241m.\u001b[39mappend(best_score)\n\u001b[0;32m     13\u001b[0m grid_dict[\u001b[38;5;124m'\u001b[39m\u001b[38;5;124mModel\u001b[39m\u001b[38;5;124m'\u001b[39m] \u001b[38;5;241m=\u001b[39m models\n",
      "\u001b[1;31mAttributeError\u001b[0m: 'dict' object has no attribute 'append'"
     ]
    }
   ],
   "source": [
    "grid_dict = {}\n",
    "models=[]\n",
    "best_estimators=[]\n",
    "best_params_lst=[]\n",
    "best_scores=[]\n",
    "for model, params in grid_params.items():\n",
    "    best_estimator, best_params, best_score = grid_search(model, params, X_train, y_train)\n",
    "    models.append(model.__class__.__name__)\n",
    "    best_estimators.append(best_estimator)\n",
    "    best_params_lst.append(best_params)\n",
    "    best_scores.append(best_score)\n",
    "\n",
    "grid_dict['Model'] = models\n",
    "grid_dict['Best_Estimator'] = best_estimators\n",
    "grid_dict['Best_Params'] = best_params\n",
    "grid_dict['Best_Score'] = best_scores  "
   ]
  },
  {
   "cell_type": "code",
   "execution_count": null,
   "metadata": {},
   "outputs": [],
   "source": [
    "models_df = pd.DataFrame(grid_dict)\n",
    "models_df"
   ]
  },
  {
   "cell_type": "code",
   "execution_count": null,
   "metadata": {},
   "outputs": [],
   "source": [
    "best_model = log_reg  # Assumption"
   ]
  },
  {
   "cell_type": "markdown",
   "metadata": {},
   "source": [
    "# Model Saving"
   ]
  },
  {
   "cell_type": "code",
   "execution_count": null,
   "metadata": {},
   "outputs": [],
   "source": [
    "import pickle\n",
    "\n",
    "pickle.dump(best_model, open('model.pkl', 'wb'))"
   ]
  }
 ],
 "metadata": {
  "kernelspec": {
   "display_name": "base",
   "language": "python",
   "name": "python3"
  },
  "language_info": {
   "codemirror_mode": {
    "name": "ipython",
    "version": 3
   },
   "file_extension": ".py",
   "mimetype": "text/x-python",
   "name": "python",
   "nbconvert_exporter": "python",
   "pygments_lexer": "ipython3",
   "version": "3.12.4"
  }
 },
 "nbformat": 4,
 "nbformat_minor": 2
}
